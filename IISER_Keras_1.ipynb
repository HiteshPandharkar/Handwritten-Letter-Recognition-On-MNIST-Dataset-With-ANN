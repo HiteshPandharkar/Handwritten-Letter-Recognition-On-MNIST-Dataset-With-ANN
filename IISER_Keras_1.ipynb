{
  "nbformat": 4,
  "nbformat_minor": 0,
  "metadata": {
    "colab": {
      "name": "IISER_Keras_1",
      "provenance": [],
      "authorship_tag": "ABX9TyN3p9212hvF0ndf2ERHW/e1",
      "include_colab_link": true
    },
    "kernelspec": {
      "name": "python3",
      "display_name": "Python 3"
    },
    "accelerator": "GPU"
  },
  "cells": [
    {
      "cell_type": "markdown",
      "metadata": {
        "id": "view-in-github",
        "colab_type": "text"
      },
      "source": [
        "<a href=\"https://colab.research.google.com/github/HiteshPandharkar/Handwritten-Letter-Recognition-On-MNIST-Dataset-With-ANN/blob/main/IISER_Keras_1.ipynb\" target=\"_parent\"><img src=\"https://colab.research.google.com/assets/colab-badge.svg\" alt=\"Open In Colab\"/></a>"
      ]
    },
    {
      "cell_type": "code",
      "metadata": {
        "id": "VZbEF3UiQzVd",
        "colab": {
          "base_uri": "https://localhost:8080/"
        },
        "outputId": "4cd631e7-a4dd-4d24-88f3-33d798e27e4d"
      },
      "source": [
        "!pip install mnist"
      ],
      "execution_count": null,
      "outputs": [
        {
          "output_type": "stream",
          "text": [
            "Collecting mnist\n",
            "  Downloading https://files.pythonhosted.org/packages/c6/c4/5db3bfe009f8d71f1d532bbadbd0ec203764bba3a469e4703a889db8e5e0/mnist-0.2.2-py2.py3-none-any.whl\n",
            "Requirement already satisfied: numpy in /usr/local/lib/python3.6/dist-packages (from mnist) (1.18.5)\n",
            "Installing collected packages: mnist\n",
            "Successfully installed mnist-0.2.2\n"
          ],
          "name": "stdout"
        }
      ]
    },
    {
      "cell_type": "markdown",
      "metadata": {
        "id": "Z6l-betGskhs"
      },
      "source": [
        "Importing necessary packages."
      ]
    },
    {
      "cell_type": "code",
      "metadata": {
        "id": "FByrV1K1RZZ6"
      },
      "source": [
        "import numpy as np\n",
        "import mnist\n",
        "import matplotlib.pyplot as plt\n",
        "from keras.models import Sequential\n",
        "from keras.layers import Dense\n",
        "from keras.utils import to_categorical"
      ],
      "execution_count": null,
      "outputs": []
    },
    {
      "cell_type": "markdown",
      "metadata": {
        "id": "IzMPmZIBsrSF"
      },
      "source": [
        "Below statement shows the GPU info alloted for the notebook. Do a factory reset to get different one."
      ]
    },
    {
      "cell_type": "code",
      "metadata": {
        "id": "Pu_4ebg2Rz0h",
        "colab": {
          "base_uri": "https://localhost:8080/"
        },
        "outputId": "9ef4a277-7c10-4cad-e843-6f698e9e9b61"
      },
      "source": [
        "!nvidia-smi"
      ],
      "execution_count": null,
      "outputs": [
        {
          "output_type": "stream",
          "text": [
            "Sun Nov  8 08:45:52 2020       \n",
            "+-----------------------------------------------------------------------------+\n",
            "| NVIDIA-SMI 455.32.00    Driver Version: 418.67       CUDA Version: 10.1     |\n",
            "|-------------------------------+----------------------+----------------------+\n",
            "| GPU  Name        Persistence-M| Bus-Id        Disp.A | Volatile Uncorr. ECC |\n",
            "| Fan  Temp  Perf  Pwr:Usage/Cap|         Memory-Usage | GPU-Util  Compute M. |\n",
            "|                               |                      |               MIG M. |\n",
            "|===============================+======================+======================|\n",
            "|   0  Tesla T4            Off  | 00000000:00:04.0 Off |                    0 |\n",
            "| N/A   39C    P8     9W /  70W |      0MiB / 15079MiB |      0%      Default |\n",
            "|                               |                      |                 ERR! |\n",
            "+-------------------------------+----------------------+----------------------+\n",
            "                                                                               \n",
            "+-----------------------------------------------------------------------------+\n",
            "| Processes:                                                                  |\n",
            "|  GPU   GI   CI        PID   Type   Process name                  GPU Memory |\n",
            "|        ID   ID                                                   Usage      |\n",
            "|=============================================================================|\n",
            "|  No running processes found                                                 |\n",
            "+-----------------------------------------------------------------------------+\n"
          ],
          "name": "stdout"
        }
      ]
    },
    {
      "cell_type": "markdown",
      "metadata": {
        "id": "qIlZ4qCus_yL"
      },
      "source": [
        "importing train and test mnist images. "
      ]
    },
    {
      "cell_type": "code",
      "metadata": {
        "id": "n6SdANEJ7yRj"
      },
      "source": [
        "train = mnist.train_images() # 28x28 images\n",
        "tlabel = mnist.train_labels()\n",
        "\n",
        "test = mnist.test_images()\n",
        "tst_label = mnist.test_labels()"
      ],
      "execution_count": null,
      "outputs": []
    },
    {
      "cell_type": "code",
      "metadata": {
        "id": "wEY6V6aJt1A3"
      },
      "source": [
        "#train"
      ],
      "execution_count": null,
      "outputs": []
    },
    {
      "cell_type": "code",
      "metadata": {
        "id": "jvY8_lzUt3B-"
      },
      "source": [
        "#train.ndim"
      ],
      "execution_count": null,
      "outputs": []
    },
    {
      "cell_type": "code",
      "metadata": {
        "id": "l-n65PUl8vDu",
        "colab": {
          "base_uri": "https://localhost:8080/"
        },
        "outputId": "d39dc241-9895-4ca2-ac48-ea250a81a048"
      },
      "source": [
        "#len(train), len(test)"
      ],
      "execution_count": null,
      "outputs": [
        {
          "output_type": "execute_result",
          "data": {
            "text/plain": [
              "(60000, 10000)"
            ]
          },
          "metadata": {
            "tags": []
          },
          "execution_count": 7
        }
      ]
    },
    {
      "cell_type": "code",
      "metadata": {
        "id": "CnWV5h3F8xE5",
        "colab": {
          "base_uri": "https://localhost:8080/"
        },
        "outputId": "f9323bb6-d5df-4ff0-fd73-82fd493db665"
      },
      "source": [
        "#train.shape"
      ],
      "execution_count": null,
      "outputs": [
        {
          "output_type": "execute_result",
          "data": {
            "text/plain": [
              "(60000, 28, 28)"
            ]
          },
          "metadata": {
            "tags": []
          },
          "execution_count": 8
        }
      ]
    },
    {
      "cell_type": "markdown",
      "metadata": {
        "id": "FguMLD9MtOHT"
      },
      "source": [
        "A sample image"
      ]
    },
    {
      "cell_type": "code",
      "metadata": {
        "id": "KFlQu7Tn9AyY",
        "colab": {
          "base_uri": "https://localhost:8080/",
          "height": 265
        },
        "outputId": "be19491b-b570-40c2-8032-c2b356b0a706"
      },
      "source": [
        "plt.imshow(train[4])\n",
        "plt.show()"
      ],
      "execution_count": null,
      "outputs": [
        {
          "output_type": "display_data",
          "data": {
            "image/png": "[encoded data removed]",
            "text/plain": [
              "<Figure size 432x288 with 1 Axes>"
            ]
          },
          "metadata": {
            "tags": [],
            "needs_background": "light"
          }
        }
      ]
    },
    {
      "cell_type": "markdown",
      "metadata": {
        "id": "Z8CvujePtcMF"
      },
      "source": [
        "Normalizing the data from 0-255 to 0-1"
      ]
    },
    {
      "cell_type": "code",
      "metadata": {
        "id": "ky7sev_o9VMY"
      },
      "source": [
        "train = train/255\n",
        "test = test/255"
      ],
      "execution_count": null,
      "outputs": []
    },
    {
      "cell_type": "markdown",
      "metadata": {
        "id": "w9OI4rLPtl16"
      },
      "source": [
        "Reshaping the data into a 28^2 = 784 dimensional vector."
      ]
    },
    {
      "cell_type": "code",
      "metadata": {
        "id": "nuhZebQV96QV",
        "colab": {
          "base_uri": "https://localhost:8080/"
        },
        "outputId": "5c8b6a42-97d9-4f6e-a578-7e2c63273651"
      },
      "source": [
        "train = train.reshape(-1, 784)\n",
        "test = test.reshape(-1, 784)\n",
        "\n",
        "train[1].ndim"
      ],
      "execution_count": null,
      "outputs": [
        {
          "output_type": "execute_result",
          "data": {
            "text/plain": [
              "1"
            ]
          },
          "metadata": {
            "tags": []
          },
          "execution_count": 8
        }
      ]
    },
    {
      "cell_type": "code",
      "metadata": {
        "id": "WIxK6Ikl-PVT",
        "colab": {
          "base_uri": "https://localhost:8080/"
        },
        "outputId": "7b7ff0f4-3491-42a4-956f-f2610cecfe17"
      },
      "source": [
        "#train.ndim"
      ],
      "execution_count": null,
      "outputs": [
        {
          "output_type": "execute_result",
          "data": {
            "text/plain": [
              "2"
            ]
          },
          "metadata": {
            "tags": []
          },
          "execution_count": 12
        }
      ]
    },
    {
      "cell_type": "code",
      "metadata": {
        "id": "lKRodHhPBWyz",
        "colab": {
          "base_uri": "https://localhost:8080/"
        },
        "outputId": "15ae30a3-b376-4568-a062-22613ffe1ff8"
      },
      "source": [
        "#train.shape"
      ],
      "execution_count": null,
      "outputs": [
        {
          "output_type": "execute_result",
          "data": {
            "text/plain": [
              "(60000, 784)"
            ]
          },
          "metadata": {
            "tags": []
          },
          "execution_count": 16
        }
      ]
    },
    {
      "cell_type": "code",
      "metadata": {
        "id": "xYej73KlBbT_",
        "colab": {
          "base_uri": "https://localhost:8080/"
        },
        "outputId": "122578ab-d374-4977-eb3a-bb2c785a52aa"
      },
      "source": [
        "#train"
      ],
      "execution_count": null,
      "outputs": [
        {
          "output_type": "execute_result",
          "data": {
            "text/plain": [
              "array([[0., 0., 0., ..., 0., 0., 0.],\n",
              "       [0., 0., 0., ..., 0., 0., 0.],\n",
              "       [0., 0., 0., ..., 0., 0., 0.],\n",
              "       ...,\n",
              "       [0., 0., 0., ..., 0., 0., 0.],\n",
              "       [0., 0., 0., ..., 0., 0., 0.],\n",
              "       [0., 0., 0., ..., 0., 0., 0.]])"
            ]
          },
          "metadata": {
            "tags": []
          },
          "execution_count": 17
        }
      ]
    },
    {
      "cell_type": "markdown",
      "metadata": {
        "id": "erYlrQIfuEiS"
      },
      "source": [
        "# Building the models."
      ]
    },
    {
      "cell_type": "markdown",
      "metadata": {
        "id": "W-rYoGmhd0SY"
      },
      "source": [
        "## Part-1"
      ]
    },
    {
      "cell_type": "code",
      "metadata": {
        "id": "mR0LwgTKpUmT",
        "colab": {
          "base_uri": "https://localhost:8080/"
        },
        "outputId": "28cafc42-deb6-4f6c-e73f-c080b19306e7"
      },
      "source": [
        "model1 = Sequential([\n",
        "                    Dense(378, activation='sigmoid', input_dim=784),\n",
        "                    Dense(10, activation='softmax')])\n",
        "\n",
        "model1.summary()"
      ],
      "execution_count": null,
      "outputs": [
        {
          "output_type": "stream",
          "text": [
            "Model: \"sequential\"\n",
            "_________________________________________________________________\n",
            "Layer (type)                 Output Shape              Param #   \n",
            "=================================================================\n",
            "dense (Dense)                (None, 378)               296730    \n",
            "_________________________________________________________________\n",
            "dense_1 (Dense)              (None, 10)                3790      \n",
            "=================================================================\n",
            "Total params: 300,520\n",
            "Trainable params: 300,520\n",
            "Non-trainable params: 0\n",
            "_________________________________________________________________\n"
          ],
          "name": "stdout"
        }
      ]
    },
    {
      "cell_type": "markdown",
      "metadata": {
        "id": "nGSUrU_jhYvv"
      },
      "source": [
        "The trainable parameters are 300,520\n",
        "Nuerons in 1st layes:- 296352\n",
        "Bias for 1st layer:- 378\n",
        "\n",
        "Nuerons in 2nd layes:- 3780\n",
        "Bias for 2nd layer:- 10\n",
        "\n",
        "Total neurons:- 292950\n",
        "Total bias:- 388"
      ]
    },
    {
      "cell_type": "code",
      "metadata": {
        "id": "p5LaT2anbxFI",
        "colab": {
          "base_uri": "https://localhost:8080/"
        },
        "outputId": "a71dc01b-565c-4170-a44d-3af03dfca176"
      },
      "source": [
        "296730-3780"
      ],
      "execution_count": null,
      "outputs": [
        {
          "output_type": "execute_result",
          "data": {
            "text/plain": [
              "292950"
            ]
          },
          "metadata": {
            "tags": []
          },
          "execution_count": 1
        }
      ]
    },
    {
      "cell_type": "code",
      "metadata": {
        "id": "nsLb0aAub9lA",
        "colab": {
          "base_uri": "https://localhost:8080/"
        },
        "outputId": "4cba1a92-8a29-43a5-d406-07f50c8bcc94"
      },
      "source": [
        "296352/378"
      ],
      "execution_count": null,
      "outputs": [
        {
          "output_type": "execute_result",
          "data": {
            "text/plain": [
              "784.0"
            ]
          },
          "metadata": {
            "tags": []
          },
          "execution_count": 23
        }
      ]
    },
    {
      "cell_type": "code",
      "metadata": {
        "id": "dyclUwKHqH4w"
      },
      "source": [
        "model1.compile(optimizer='SGD', loss = 'categorical_crossentropy', metrics = ['accuracy'])"
      ],
      "execution_count": null,
      "outputs": []
    },
    {
      "cell_type": "code",
      "metadata": {
        "id": "GTiQQXC2qeDQ",
        "colab": {
          "base_uri": "https://localhost:8080/"
        },
        "outputId": "b6cece9d-d758-453b-e63b-4b10109cd205"
      },
      "source": [
        "model1.fit(train, to_categorical(tlabel), batch_size=1, epochs = 10, validation_split=.3)"
      ],
      "execution_count": null,
      "outputs": [
        {
          "output_type": "stream",
          "text": [
            "Epoch 1/10\n",
            "42000/42000 [==============================] - 99s 2ms/step - loss: 0.4355 - accuracy: 0.8686 - val_loss: 0.3035 - val_accuracy: 0.9129\n",
            "Epoch 2/10\n",
            "42000/42000 [==============================] - 100s 2ms/step - loss: 0.2690 - accuracy: 0.9213 - val_loss: 0.2381 - val_accuracy: 0.9332\n",
            "Epoch 3/10\n",
            "42000/42000 [==============================] - 98s 2ms/step - loss: 0.2064 - accuracy: 0.9400 - val_loss: 0.1921 - val_accuracy: 0.9449\n",
            "Epoch 4/10\n",
            "42000/42000 [==============================] - 98s 2ms/step - loss: 0.1642 - accuracy: 0.9517 - val_loss: 0.1670 - val_accuracy: 0.9519\n",
            "Epoch 5/10\n",
            "42000/42000 [==============================] - 99s 2ms/step - loss: 0.1358 - accuracy: 0.9610 - val_loss: 0.1508 - val_accuracy: 0.9565\n",
            "Epoch 6/10\n",
            "42000/42000 [==============================] - 99s 2ms/step - loss: 0.1156 - accuracy: 0.9664 - val_loss: 0.1357 - val_accuracy: 0.9615\n",
            "Epoch 7/10\n",
            "42000/42000 [==============================] - 98s 2ms/step - loss: 0.0995 - accuracy: 0.9711 - val_loss: 0.1224 - val_accuracy: 0.9652\n",
            "Epoch 8/10\n",
            "42000/42000 [==============================] - 98s 2ms/step - loss: 0.0867 - accuracy: 0.9750 - val_loss: 0.1221 - val_accuracy: 0.9638\n",
            "Epoch 9/10\n",
            "42000/42000 [==============================] - 99s 2ms/step - loss: 0.0769 - accuracy: 0.9779 - val_loss: 0.1114 - val_accuracy: 0.9679\n",
            "Epoch 10/10\n",
            "42000/42000 [==============================] - 98s 2ms/step - loss: 0.0686 - accuracy: 0.9805 - val_loss: 0.1073 - val_accuracy: 0.9688\n"
          ],
          "name": "stdout"
        },
        {
          "output_type": "execute_result",
          "data": {
            "text/plain": [
              "<tensorflow.python.keras.callbacks.History at 0x7f6e000721d0>"
            ]
          },
          "metadata": {
            "tags": []
          },
          "execution_count": 12
        }
      ]
    },
    {
      "cell_type": "markdown",
      "metadata": {
        "id": "sz1zDXn5jgvI"
      },
      "source": [
        "**About how long did each epoch take?**\n",
        "\n",
        "-> On average each epoch needs 98 seconds."
      ]
    },
    {
      "cell_type": "markdown",
      "metadata": {
        "id": "UE4LmU1oimZy"
      },
      "source": [
        "**How accurate was this model on the validation data after 10 epochs?**\n",
        "-> The validation accuracy seems to converge at 96%.\n",
        "\n",
        "**How different was the model's performance on the training data?**\n",
        "-> The validation accuracy seems to converge at 98%.\n"
      ]
    },
    {
      "cell_type": "markdown",
      "metadata": {
        "id": "QAhq9J6Jcvry"
      },
      "source": [
        "Evaluating the model on test data."
      ]
    },
    {
      "cell_type": "code",
      "metadata": {
        "id": "JuNZNevZqhQj",
        "colab": {
          "base_uri": "https://localhost:8080/"
        },
        "outputId": "b3fb0733-900a-4c77-e4db-36dd3f0b5301"
      },
      "source": [
        "model1.evaluate(test, to_categorical(tst_label))"
      ],
      "execution_count": null,
      "outputs": [
        {
          "output_type": "stream",
          "text": [
            "313/313 [==============================] - 1s 2ms/step - loss: 0.0935 - accuracy: 0.9722\n"
          ],
          "name": "stdout"
        },
        {
          "output_type": "execute_result",
          "data": {
            "text/plain": [
              "[0.09347612410783768, 0.9721999764442444]"
            ]
          },
          "metadata": {
            "tags": []
          },
          "execution_count": 13
        }
      ]
    },
    {
      "cell_type": "markdown",
      "metadata": {
        "id": "-M1H4ghHjWU8"
      },
      "source": [
        "**How different was the model's performance on the test data?**\n",
        "\n",
        "-> The validation accuracy seems to converge at 97%."
      ]
    },
    {
      "cell_type": "markdown",
      "metadata": {
        "id": "_Om4mUBEc0LF"
      },
      "source": [
        "Sample predictiions."
      ]
    },
    {
      "cell_type": "code",
      "metadata": {
        "id": "m0uVgZVMvKZs",
        "colab": {
          "base_uri": "https://localhost:8080/"
        },
        "outputId": "c826b857-569b-483a-8b24-c3645827379f"
      },
      "source": [
        "pred = model1.predict(test[:10])\n",
        "print(np.argmax(pred, axis = 1))\n",
        "print(tst_label[:10])"
      ],
      "execution_count": null,
      "outputs": [
        {
          "output_type": "stream",
          "text": [
            "[7 2 1 0 4 1 4 9 6 9]\n",
            "[7 2 1 0 4 1 4 9 5 9]\n"
          ],
          "name": "stdout"
        }
      ]
    },
    {
      "cell_type": "markdown",
      "metadata": {
        "id": "VzAnpZKHc5Rz"
      },
      "source": [
        "Sample images."
      ]
    },
    {
      "cell_type": "code",
      "metadata": {
        "id": "GLzJhEeenhX_",
        "colab": {
          "base_uri": "https://localhost:8080/",
          "height": 1000
        },
        "outputId": "058aa6c5-20c7-488c-a189-6e905d563be8"
      },
      "source": [
        "for i in range(10) :\n",
        "  img = test[i]\n",
        "  img = img.reshape((28, 28))\n",
        "  plt.imshow(img, cmap='gray')\n",
        "  plt.show()"
      ],
      "execution_count": null,
      "outputs": [
        {
          "output_type": "display_data",
          "data": {
            "image/png": "[encoded data removed]",
            "text/plain": [
              "<Figure size 432x288 with 1 Axes>"
            ]
          },
          "metadata": {
            "tags": [],
            "needs_background": "light"
          }
        },
        {
          "output_type": "display_data",
          "data": {
            "image/png": "[encoded data removed]",
            "text/plain": [
              "<Figure size 432x288 with 1 Axes>"
            ]
          },
          "metadata": {
            "tags": [],
            "needs_background": "light"
          }
        },
        {
          "output_type": "display_data",
          "data": {
            "image/png": "[encoded data removed]",
            "text/plain": [
              "<Figure size 432x288 with 1 Axes>"
            ]
          },
          "metadata": {
            "tags": [],
            "needs_background": "light"
          }
        },
        {
          "output_type": "display_data",
          "data": {
            "image/png": "[encoded data removed]",
            "text/plain": [
              "<Figure size 432x288 with 1 Axes>"
            ]
          },
          "metadata": {
            "tags": [],
            "needs_background": "light"
          }
        },
        {
          "output_type": "display_data",
          "data": {
            "image/png": "[encoded data removed]",
            "text/plain": [
              "<Figure size 432x288 with 1 Axes>"
            ]
          },
          "metadata": {
            "tags": [],
            "needs_background": "light"
          }
        },
        {
          "output_type": "display_data",
          "data": {
            "image/png": "[encoded data removed]",
            "text/plain": [
              "<Figure size 432x288 with 1 Axes>"
            ]
          },
          "metadata": {
            "tags": [],
            "needs_background": "light"
          }
        },
        {
          "output_type": "display_data",
          "data": {
            "image/png": "[encoded data removed]",
            "text/plain": [
              "<Figure size 432x288 with 1 Axes>"
            ]
          },
          "metadata": {
            "tags": [],
            "needs_background": "light"
          }
        },
        {
          "output_type": "display_data",
          "data": {
            "image/png": "[encoded data removed]",
            "text/plain": [
              "<Figure size 432x288 with 1 Axes>"
            ]
          },
          "metadata": {
            "tags": [],
            "needs_background": "light"
          }
        },
        {
          "output_type": "display_data",
          "data": {
            "image/png": "[encoded data removed]",
            "text/plain": [
              "<Figure size 432x288 with 1 Axes>"
            ]
          },
          "metadata": {
            "tags": [],
            "needs_background": "light"
          }
        },
        {
          "output_type": "display_data",
          "data": {
            "image/png": "[encoded data removed]",
            "text/plain": [
              "<Figure size 432x288 with 1 Axes>"
            ]
          },
          "metadata": {
            "tags": [],
            "needs_background": "light"
          }
        }
      ]
    },
    {
      "cell_type": "markdown",
      "metadata": {
        "id": "wkXG1BXhj9YH"
      },
      "source": [
        "## Part-1 Model-2"
      ]
    },
    {
      "cell_type": "code",
      "metadata": {
        "id": "hAmoqaCVdi6R",
        "colab": {
          "base_uri": "https://localhost:8080/"
        },
        "outputId": "dbec8e35-1526-406a-eb55-37e7246cd99c"
      },
      "source": [
        "model2 = Sequential([\n",
        "                     Dense(63, activation = 'sigmoid', input_dim = 784),\n",
        "                     Dense(10, activation='softmax')])\n",
        "\n",
        "model2.summary()"
      ],
      "execution_count": null,
      "outputs": [
        {
          "output_type": "stream",
          "text": [
            "Model: \"sequential_10\"\n",
            "_________________________________________________________________\n",
            "Layer (type)                 Output Shape              Param #   \n",
            "=================================================================\n",
            "dense_20 (Dense)             (None, 63)                49455     \n",
            "_________________________________________________________________\n",
            "dense_21 (Dense)             (None, 10)                640       \n",
            "=================================================================\n",
            "Total params: 50,095\n",
            "Trainable params: 50,095\n",
            "Non-trainable params: 0\n",
            "_________________________________________________________________\n"
          ],
          "name": "stdout"
        }
      ]
    },
    {
      "cell_type": "code",
      "metadata": {
        "id": "3So2ZFoEeQ3R"
      },
      "source": [
        "model2.compile(optimizer='SGD', loss='categorical_crossentropy',metrics=['accuracy'])"
      ],
      "execution_count": null,
      "outputs": []
    },
    {
      "cell_type": "code",
      "metadata": {
        "id": "tBwnTDbveb8Z",
        "colab": {
          "base_uri": "https://localhost:8080/"
        },
        "outputId": "85107ab5-0050-47b3-fd44-5863ff3146c5"
      },
      "source": [
        "model2.fit(train, to_categorical(tlabel), batch_size=1, epochs=10, validation_split=.3)"
      ],
      "execution_count": null,
      "outputs": [
        {
          "output_type": "stream",
          "text": [
            "Epoch 1/10\n",
            "42000/42000 [==============================] - 97s 2ms/step - loss: 0.4243 - accuracy: 0.8818 - val_loss: 0.2641 - val_accuracy: 0.9245\n",
            "Epoch 2/10\n",
            "42000/42000 [==============================] - 98s 2ms/step - loss: 0.2301 - accuracy: 0.9326 - val_loss: 0.2105 - val_accuracy: 0.9382\n",
            "Epoch 3/10\n",
            "42000/42000 [==============================] - 98s 2ms/step - loss: 0.1793 - accuracy: 0.9482 - val_loss: 0.1805 - val_accuracy: 0.9479\n",
            "Epoch 4/10\n",
            "42000/42000 [==============================] - 98s 2ms/step - loss: 0.1487 - accuracy: 0.9567 - val_loss: 0.1631 - val_accuracy: 0.9528\n",
            "Epoch 5/10\n",
            "42000/42000 [==============================] - 97s 2ms/step - loss: 0.1273 - accuracy: 0.9625 - val_loss: 0.1476 - val_accuracy: 0.9569\n",
            "Epoch 6/10\n",
            "42000/42000 [==============================] - 97s 2ms/step - loss: 0.1106 - accuracy: 0.9680 - val_loss: 0.1365 - val_accuracy: 0.9613\n",
            "Epoch 7/10\n",
            "42000/42000 [==============================] - 98s 2ms/step - loss: 0.0968 - accuracy: 0.9731 - val_loss: 0.1324 - val_accuracy: 0.9631\n",
            "Epoch 8/10\n",
            "42000/42000 [==============================] - 97s 2ms/step - loss: 0.0869 - accuracy: 0.9754 - val_loss: 0.1248 - val_accuracy: 0.9637\n",
            "Epoch 9/10\n",
            "42000/42000 [==============================] - 98s 2ms/step - loss: 0.0784 - accuracy: 0.9782 - val_loss: 0.1209 - val_accuracy: 0.9651\n",
            "Epoch 10/10\n",
            "42000/42000 [==============================] - 99s 2ms/step - loss: 0.0712 - accuracy: 0.9807 - val_loss: 0.1175 - val_accuracy: 0.9661\n"
          ],
          "name": "stdout"
        },
        {
          "output_type": "execute_result",
          "data": {
            "text/plain": [
              "<tensorflow.python.keras.callbacks.History at 0x7f6da6224630>"
            ]
          },
          "metadata": {
            "tags": []
          },
          "execution_count": 28
        }
      ]
    },
    {
      "cell_type": "code",
      "metadata": {
        "id": "2pgIp7WbhYzR",
        "colab": {
          "base_uri": "https://localhost:8080/"
        },
        "outputId": "15209913-e937-4242-e462-492fb5813e5d"
      },
      "source": [
        "model2.evaluate(test, to_categorical(tst_label))"
      ],
      "execution_count": null,
      "outputs": [
        {
          "output_type": "stream",
          "text": [
            "313/313 [==============================] - 1s 2ms/step - loss: 0.1053 - accuracy: 0.9673\n"
          ],
          "name": "stdout"
        },
        {
          "output_type": "execute_result",
          "data": {
            "text/plain": [
              "[0.1052788719534874, 0.9672999978065491]"
            ]
          },
          "metadata": {
            "tags": []
          },
          "execution_count": 29
        }
      ]
    },
    {
      "cell_type": "code",
      "metadata": {
        "id": "fXKPiERwlI6s",
        "colab": {
          "base_uri": "https://localhost:8080/"
        },
        "outputId": "bb8d84e3-ec7a-4598-96c5-da5035486683"
      },
      "source": [
        "pred = model2.predict(test[:10])\n",
        "print(np.argmax(pred, axis = 1))\n",
        "print(tst_label[:10])"
      ],
      "execution_count": null,
      "outputs": [
        {
          "output_type": "stream",
          "text": [
            "[7 2 1 0 4 1 4 9 6 9]\n",
            "[7 2 1 0 4 1 4 9 5 9]\n"
          ],
          "name": "stdout"
        }
      ]
    },
    {
      "cell_type": "code",
      "metadata": {
        "id": "Er6ygeQolewU",
        "colab": {
          "base_uri": "https://localhost:8080/",
          "height": 1000
        },
        "outputId": "0dd3f0d8-b742-4517-f94d-77b83da7d095"
      },
      "source": [
        "for i in range(10) :\n",
        "  img = test[i].reshape((28, 28))\n",
        "  plt.imshow(img, cmap = 'gray')\n",
        "  plt.show()"
      ],
      "execution_count": null,
      "outputs": [
        {
          "output_type": "display_data",
          "data": {
            "image/png": "[encoded data removed]",
            "text/plain": [
              "<Figure size 432x288 with 1 Axes>"
            ]
          },
          "metadata": {
            "tags": [],
            "needs_background": "light"
          }
        },
        {
          "output_type": "display_data",
          "data": {
            "image/png": "[encoded data removed]",
            "text/plain": [
              "<Figure size 432x288 with 1 Axes>"
            ]
          },
          "metadata": {
            "tags": [],
            "needs_background": "light"
          }
        },
        {
          "output_type": "display_data",
          "data": {
            "image/png": "[encoded data removed]",
            "text/plain": [
              "<Figure size 432x288 with 1 Axes>"
            ]
          },
          "metadata": {
            "tags": [],
            "needs_background": "light"
          }
        },
        {
          "output_type": "display_data",
          "data": {
            "image/png": "[encoded data removed]",
            "text/plain": [
              "<Figure size 432x288 with 1 Axes>"
            ]
          },
          "metadata": {
            "tags": [],
            "needs_background": "light"
          }
        },
        {
          "output_type": "display_data",
          "data": {
            "image/png": "[encoded data removed]",
            "text/plain": [
              "<Figure size 432x288 with 1 Axes>"
            ]
          },
          "metadata": {
            "tags": [],
            "needs_background": "light"
          }
        },
        {
          "output_type": "display_data",
          "data": {
            "image/png": "[encoded data removed]",
            "text/plain": [
              "<Figure size 432x288 with 1 Axes>"
            ]
          },
          "metadata": {
            "tags": [],
            "needs_background": "light"
          }
        },
        {
          "output_type": "display_data",
          "data": {
            "image/png": "[encoded data removed]",
            "text/plain": [
              "<Figure size 432x288 with 1 Axes>"
            ]
          },
          "metadata": {
            "tags": [],
            "needs_background": "light"
          }
        },
        {
          "output_type": "display_data",
          "data": {
            "image/png": "[encoded data removed]",
            "text/plain": [
              "<Figure size 432x288 with 1 Axes>"
            ]
          },
          "metadata": {
            "tags": [],
            "needs_background": "light"
          }
        },
        {
          "output_type": "display_data",
          "data": {
            "image/png": "[encoded data removed]",
            "text/plain": [
              "<Figure size 432x288 with 1 Axes>"
            ]
          },
          "metadata": {
            "tags": [],
            "needs_background": "light"
          }
        },
        {
          "output_type": "display_data",
          "data": {
            "image/png": "[encoded data removed]",
            "text/plain": [
              "<Figure size 432x288 with 1 Axes>"
            ]
          },
          "metadata": {
            "tags": [],
            "needs_background": "light"
          }
        }
      ]
    },
    {
      "cell_type": "markdown",
      "metadata": {
        "id": "VSBl9SVKfkYy"
      },
      "source": [
        "## Part-2"
      ]
    },
    {
      "cell_type": "markdown",
      "metadata": {
        "id": "5izUi8QLBTnS"
      },
      "source": [
        "#### Model-1"
      ]
    },
    {
      "cell_type": "code",
      "metadata": {
        "id": "gDjLBcV1fsvt",
        "colab": {
          "base_uri": "https://localhost:8080/"
        },
        "outputId": "bc71b87f-e043-4fd2-ba8c-0eb99670d1bb"
      },
      "source": [
        "model3 = Sequential([\n",
        "                     Dense(10, activation = 'sigmoid', input_dim = 784),\n",
        "                     Dense(10, activation='sigmoid'),\n",
        "                     Dense(10, activation='sigmoid'),\n",
        "                     Dense(10, activation='sigmoid'),\n",
        "                     Dense(10, activation='sigmoid'),\n",
        "                     Dense(10, activation='sigmoid'),\n",
        "                     Dense(10, activation='sigmoid'),\n",
        "                     Dense(10, activation='sigmoid'),\n",
        "                     Dense(10, activation='sigmoid'),\n",
        "                     Dense(10, activation='sigmoid'),\n",
        "                     Dense(10, activation='softmax')])\n",
        "\n",
        "model3.summary()"
      ],
      "execution_count": null,
      "outputs": [
        {
          "output_type": "stream",
          "text": [
            "Model: \"sequential\"\n",
            "_________________________________________________________________\n",
            "Layer (type)                 Output Shape              Param #   \n",
            "=================================================================\n",
            "dense (Dense)                (None, 10)                7850      \n",
            "_________________________________________________________________\n",
            "dense_1 (Dense)              (None, 10)                110       \n",
            "_________________________________________________________________\n",
            "dense_2 (Dense)              (None, 10)                110       \n",
            "_________________________________________________________________\n",
            "dense_3 (Dense)              (None, 10)                110       \n",
            "_________________________________________________________________\n",
            "dense_4 (Dense)              (None, 10)                110       \n",
            "_________________________________________________________________\n",
            "dense_5 (Dense)              (None, 10)                110       \n",
            "_________________________________________________________________\n",
            "dense_6 (Dense)              (None, 10)                110       \n",
            "_________________________________________________________________\n",
            "dense_7 (Dense)              (None, 10)                110       \n",
            "_________________________________________________________________\n",
            "dense_8 (Dense)              (None, 10)                110       \n",
            "_________________________________________________________________\n",
            "dense_9 (Dense)              (None, 10)                110       \n",
            "_________________________________________________________________\n",
            "dense_10 (Dense)             (None, 10)                110       \n",
            "=================================================================\n",
            "Total params: 8,950\n",
            "Trainable params: 8,950\n",
            "Non-trainable params: 0\n",
            "_________________________________________________________________\n"
          ],
          "name": "stdout"
        }
      ]
    },
    {
      "cell_type": "code",
      "metadata": {
        "id": "aZTwdQPpBg9a"
      },
      "source": [
        "model3.compile(optimizer='SGD', loss='categorical_crossentropy',metrics=['accuracy'])"
      ],
      "execution_count": null,
      "outputs": []
    },
    {
      "cell_type": "code",
      "metadata": {
        "id": "MAuqMLs-Bm0F",
        "colab": {
          "base_uri": "https://localhost:8080/"
        },
        "outputId": "a8a47520-da56-4178-bcd6-239b6d99ba46"
      },
      "source": [
        "model3.fit(train, to_categorical(tlabel), batch_size=1, epochs=10, validation_split=.3)"
      ],
      "execution_count": null,
      "outputs": [
        {
          "output_type": "stream",
          "text": [
            "Epoch 1/10\n",
            "42000/42000 [==============================] - 134s 3ms/step - loss: 2.3073 - accuracy: 0.1036 - val_loss: 2.3060 - val_accuracy: 0.1035\n",
            "Epoch 2/10\n",
            "42000/42000 [==============================] - 135s 3ms/step - loss: 2.3055 - accuracy: 0.1060 - val_loss: 2.3072 - val_accuracy: 0.1079\n",
            "Epoch 3/10\n",
            "42000/42000 [==============================] - 132s 3ms/step - loss: 2.3047 - accuracy: 0.1067 - val_loss: 2.3036 - val_accuracy: 0.1079\n",
            "Epoch 4/10\n",
            "42000/42000 [==============================] - 131s 3ms/step - loss: 2.3037 - accuracy: 0.1069 - val_loss: 2.3032 - val_accuracy: 0.1079\n",
            "Epoch 5/10\n",
            "42000/42000 [==============================] - 129s 3ms/step - loss: 2.3039 - accuracy: 0.1074 - val_loss: 2.3019 - val_accuracy: 0.1035\n",
            "Epoch 6/10\n",
            "42000/42000 [==============================] - 129s 3ms/step - loss: 2.3036 - accuracy: 0.1077 - val_loss: 2.3044 - val_accuracy: 0.1079\n",
            "Epoch 7/10\n",
            "42000/42000 [==============================] - 131s 3ms/step - loss: 2.3033 - accuracy: 0.1099 - val_loss: 2.3029 - val_accuracy: 0.0966\n",
            "Epoch 8/10\n",
            "42000/42000 [==============================] - 131s 3ms/step - loss: 2.3039 - accuracy: 0.1093 - val_loss: 2.3021 - val_accuracy: 0.0989\n",
            "Epoch 9/10\n",
            "42000/42000 [==============================] - 132s 3ms/step - loss: 2.3031 - accuracy: 0.1113 - val_loss: 2.3052 - val_accuracy: 0.1079\n",
            "Epoch 10/10\n",
            "42000/42000 [==============================] - 132s 3ms/step - loss: 2.3033 - accuracy: 0.1077 - val_loss: 2.3030 - val_accuracy: 0.1006\n"
          ],
          "name": "stdout"
        },
        {
          "output_type": "execute_result",
          "data": {
            "text/plain": [
              "<tensorflow.python.keras.callbacks.History at 0x7f98a2fec748>"
            ]
          },
          "metadata": {
            "tags": []
          },
          "execution_count": 21
        }
      ]
    },
    {
      "cell_type": "code",
      "metadata": {
        "id": "AzGiwmEiBqBB",
        "colab": {
          "base_uri": "https://localhost:8080/"
        },
        "outputId": "96f7ccaa-fd78-47f1-d443-ca4fe2f6e4d8"
      },
      "source": [
        "model3.evaluate(test, to_categorical(tst_label))"
      ],
      "execution_count": null,
      "outputs": [
        {
          "output_type": "stream",
          "text": [
            "313/313 [==============================] - 1s 2ms/step - loss: 2.3031 - accuracy: 0.0974\n"
          ],
          "name": "stdout"
        },
        {
          "output_type": "execute_result",
          "data": {
            "text/plain": [
              "[2.303091526031494, 0.09740000218153]"
            ]
          },
          "metadata": {
            "tags": []
          },
          "execution_count": 22
        }
      ]
    },
    {
      "cell_type": "markdown",
      "metadata": {
        "id": "7sx-wbXSM5Xd"
      },
      "source": [
        "### Model-2"
      ]
    },
    {
      "cell_type": "code",
      "metadata": {
        "id": "dLAxYQnBDIlQ",
        "colab": {
          "base_uri": "https://localhost:8080/"
        },
        "outputId": "0a64b3d6-1ff8-4d50-a6b0-e80925760ffd"
      },
      "source": [
        "r.seed(1)\n",
        "\n",
        "model4 = Sequential([\n",
        "                     Dense(r.randint(10, 50), activation = 'sigmoid', input_dim = 784),\n",
        "                     Dense(r.randint(10, 50), activation='sigmoid'),\n",
        "                     Dense(r.randint(10, 50), activation='sigmoid'),\n",
        "                     Dense(r.randint(10, 50), activation='sigmoid'),\n",
        "                     Dense(r.randint(10, 50), activation='sigmoid'),\n",
        "                     Dense(r.randint(10, 50), activation='sigmoid'),\n",
        "                     Dense(r.randint(10, 50), activation='sigmoid'),\n",
        "                     Dense(r.randint(10, 50), activation='sigmoid'),\n",
        "                     Dense(r.randint(10, 50), activation='sigmoid'),\n",
        "                     Dense(r.randint(10, 50), activation='sigmoid'),\n",
        "                     Dense(10, activation='softmax')])\n",
        "\n",
        "model4.summary()"
      ],
      "execution_count": null,
      "outputs": [
        {
          "output_type": "stream",
          "text": [
            "Model: \"sequential_1\"\n",
            "_________________________________________________________________\n",
            "Layer (type)                 Output Shape              Param #   \n",
            "=================================================================\n",
            "dense_11 (Dense)             (None, 18)                14130     \n",
            "_________________________________________________________________\n",
            "dense_12 (Dense)             (None, 46)                874       \n",
            "_________________________________________________________________\n",
            "dense_13 (Dense)             (None, 14)                658       \n",
            "_________________________________________________________________\n",
            "dense_14 (Dense)             (None, 26)                390       \n",
            "_________________________________________________________________\n",
            "dense_15 (Dense)             (None, 17)                459       \n",
            "_________________________________________________________________\n",
            "dense_16 (Dense)             (None, 41)                738       \n",
            "_________________________________________________________________\n",
            "dense_17 (Dense)             (None, 38)                1596      \n",
            "_________________________________________________________________\n",
            "dense_18 (Dense)             (None, 40)                1560      \n",
            "_________________________________________________________________\n",
            "dense_19 (Dense)             (None, 34)                1394      \n",
            "_________________________________________________________________\n",
            "dense_20 (Dense)             (None, 23)                805       \n",
            "_________________________________________________________________\n",
            "dense_21 (Dense)             (None, 10)                240       \n",
            "=================================================================\n",
            "Total params: 22,844\n",
            "Trainable params: 22,844\n",
            "Non-trainable params: 0\n",
            "_________________________________________________________________\n"
          ],
          "name": "stdout"
        }
      ]
    },
    {
      "cell_type": "code",
      "metadata": {
        "id": "Ut7Wj7IqNhjW"
      },
      "source": [
        "model4.compile(optimizer='SGD', loss='categorical_crossentropy',metrics=['accuracy'])"
      ],
      "execution_count": null,
      "outputs": []
    },
    {
      "cell_type": "code",
      "metadata": {
        "id": "gyhyH82_PlHv",
        "colab": {
          "base_uri": "https://localhost:8080/"
        },
        "outputId": "296bc9b7-1e11-4d60-fef0-9b0a3af1ff2e"
      },
      "source": [
        "model3.fit(train, to_categorical(tlabel), batch_size=1, epochs=5, validation_split=.3)"
      ],
      "execution_count": null,
      "outputs": [
        {
          "output_type": "stream",
          "text": [
            "Epoch 1/5\n",
            "42000/42000 [==============================] - 122s 3ms/step - loss: 2.3036 - accuracy: 0.1084 - val_loss: 2.3048 - val_accuracy: 0.1079\n",
            "Epoch 2/5\n",
            "42000/42000 [==============================] - 125s 3ms/step - loss: 2.3033 - accuracy: 0.1108 - val_loss: 2.3025 - val_accuracy: 0.1079\n",
            "Epoch 3/5\n",
            "42000/42000 [==============================] - 125s 3ms/step - loss: 2.3032 - accuracy: 0.1088 - val_loss: 2.3027 - val_accuracy: 0.1079\n",
            "Epoch 4/5\n",
            "42000/42000 [==============================] - 126s 3ms/step - loss: 2.3033 - accuracy: 0.1096 - val_loss: 2.3048 - val_accuracy: 0.1079\n",
            "Epoch 5/5\n",
            "42000/42000 [==============================] - 128s 3ms/step - loss: 2.3034 - accuracy: 0.1087 - val_loss: 2.3038 - val_accuracy: 0.1079\n"
          ],
          "name": "stdout"
        },
        {
          "output_type": "execute_result",
          "data": {
            "text/plain": [
              "<tensorflow.python.keras.callbacks.History at 0x7f98a0483e80>"
            ]
          },
          "metadata": {
            "tags": []
          },
          "execution_count": 47
        }
      ]
    },
    {
      "cell_type": "code",
      "metadata": {
        "id": "8LFDFAZ_PswI",
        "colab": {
          "base_uri": "https://localhost:8080/"
        },
        "outputId": "2e96a26e-3ede-4278-c66d-23117c962b0d"
      },
      "source": [
        "model3.evaluate(test, to_categorical(tst_label))"
      ],
      "execution_count": null,
      "outputs": [
        {
          "output_type": "stream",
          "text": [
            "313/313 [==============================] - 1s 2ms/step - loss: 2.3022 - accuracy: 0.1135\n"
          ],
          "name": "stdout"
        },
        {
          "output_type": "execute_result",
          "data": {
            "text/plain": [
              "[2.302239179611206, 0.11349999904632568]"
            ]
          },
          "metadata": {
            "tags": []
          },
          "execution_count": 49
        }
      ]
    },
    {
      "cell_type": "markdown",
      "metadata": {
        "id": "dqnC-iJAQWhM"
      },
      "source": [
        "### Model-3"
      ]
    },
    {
      "cell_type": "code",
      "metadata": {
        "id": "R6W8UPaRQY8y",
        "colab": {
          "base_uri": "https://localhost:8080/"
        },
        "outputId": "d3544852-3e5b-44cd-b679-a6d804271e98"
      },
      "source": [
        "r.seed(1)\n",
        "\n",
        "model5 = Sequential([\n",
        "                     Dense(r.randint(50, 100), activation = 'sigmoid', input_dim = 784),\n",
        "                     Dense(r.randint(50, 100), activation='sigmoid'),\n",
        "                     Dense(r.randint(50, 100), activation='sigmoid'),\n",
        "                     Dense(r.randint(50, 100), activation='sigmoid'),\n",
        "                     Dense(r.randint(50, 100), activation='sigmoid'),\n",
        "                     Dense(r.randint(50, 100), activation='sigmoid'),\n",
        "                     Dense(r.randint(50, 100), activation='sigmoid'),\n",
        "                     Dense(r.randint(50, 100), activation='sigmoid'),\n",
        "                     Dense(r.randint(50, 100), activation='sigmoid'),\n",
        "                     Dense(r.randint(50, 100), activation='sigmoid'),\n",
        "                     Dense(10, activation='softmax')])\n",
        "\n",
        "model5.summary()"
      ],
      "execution_count": null,
      "outputs": [
        {
          "output_type": "stream",
          "text": [
            "Model: \"sequential_2\"\n",
            "_________________________________________________________________\n",
            "Layer (type)                 Output Shape              Param #   \n",
            "=================================================================\n",
            "dense_22 (Dense)             (None, 58)                45530     \n",
            "_________________________________________________________________\n",
            "dense_23 (Dense)             (None, 86)                5074      \n",
            "_________________________________________________________________\n",
            "dense_24 (Dense)             (None, 98)                8526      \n",
            "_________________________________________________________________\n",
            "dense_25 (Dense)             (None, 54)                5346      \n",
            "_________________________________________________________________\n",
            "dense_26 (Dense)             (None, 66)                3630      \n",
            "_________________________________________________________________\n",
            "dense_27 (Dense)             (None, 57)                3819      \n",
            "_________________________________________________________________\n",
            "dense_28 (Dense)             (None, 81)                4698      \n",
            "_________________________________________________________________\n",
            "dense_29 (Dense)             (None, 98)                8036      \n",
            "_________________________________________________________________\n",
            "dense_30 (Dense)             (None, 78)                7722      \n",
            "_________________________________________________________________\n",
            "dense_31 (Dense)             (None, 80)                6320      \n",
            "_________________________________________________________________\n",
            "dense_32 (Dense)             (None, 10)                810       \n",
            "=================================================================\n",
            "Total params: 99,511\n",
            "Trainable params: 99,511\n",
            "Non-trainable params: 0\n",
            "_________________________________________________________________\n"
          ],
          "name": "stdout"
        }
      ]
    },
    {
      "cell_type": "code",
      "metadata": {
        "id": "JH7AqljYQ9s5"
      },
      "source": [
        "model5.compile(optimizer='SGD', loss='categorical_crossentropy', metrics=['accuracy'])"
      ],
      "execution_count": null,
      "outputs": []
    },
    {
      "cell_type": "code",
      "metadata": {
        "id": "MPyan0zbRS1V",
        "colab": {
          "base_uri": "https://localhost:8080/"
        },
        "outputId": "9a4ddfa0-cbaa-432d-ac25-d402b702fed2"
      },
      "source": [
        "model5.fit(train, to_categorical(tlabel), batch_size=1, epochs=5, validation_split=.3)"
      ],
      "execution_count": null,
      "outputs": [
        {
          "output_type": "stream",
          "text": [
            "Epoch 1/5\n",
            "42000/42000 [==============================] - 127s 3ms/step - loss: 2.3146 - accuracy: 0.1036 - val_loss: 2.3135 - val_accuracy: 0.1079\n",
            "Epoch 2/5\n",
            "42000/42000 [==============================] - 129s 3ms/step - loss: 2.3044 - accuracy: 0.1066 - val_loss: 2.3053 - val_accuracy: 0.1079\n",
            "Epoch 3/5\n",
            "42000/42000 [==============================] - 130s 3ms/step - loss: 2.3038 - accuracy: 0.1081 - val_loss: 2.3030 - val_accuracy: 0.1079\n",
            "Epoch 4/5\n",
            "42000/42000 [==============================] - 132s 3ms/step - loss: 2.3039 - accuracy: 0.1088 - val_loss: 2.3026 - val_accuracy: 0.1079\n",
            "Epoch 5/5\n",
            "42000/42000 [==============================] - 130s 3ms/step - loss: 2.3036 - accuracy: 0.1092 - val_loss: 2.3037 - val_accuracy: 0.1079\n"
          ],
          "name": "stdout"
        },
        {
          "output_type": "execute_result",
          "data": {
            "text/plain": [
              "<tensorflow.python.keras.callbacks.History at 0x7f98a03fbfd0>"
            ]
          },
          "metadata": {
            "tags": []
          },
          "execution_count": 52
        }
      ]
    },
    {
      "cell_type": "code",
      "metadata": {
        "id": "rmVY400cSJBB",
        "colab": {
          "base_uri": "https://localhost:8080/"
        },
        "outputId": "f71a58e3-b934-4a60-ede2-b3eb790ff296"
      },
      "source": [
        "model5.evaluate(test, to_categorical(tst_label))"
      ],
      "execution_count": null,
      "outputs": [
        {
          "output_type": "stream",
          "text": [
            "313/313 [==============================] - 1s 2ms/step - loss: 2.3028 - accuracy: 0.1135\n"
          ],
          "name": "stdout"
        },
        {
          "output_type": "execute_result",
          "data": {
            "text/plain": [
              "[2.3028409481048584, 0.11349999904632568]"
            ]
          },
          "metadata": {
            "tags": []
          },
          "execution_count": 53
        }
      ]
    },
    {
      "cell_type": "markdown",
      "metadata": {
        "id": "Sl9CPjo9kd2O"
      },
      "source": [
        "**Did any of these models achieve better than 20% accuracy on validation or test data?**\n",
        "\n",
        "-> None of the models performed better than 20%.\n",
        "\n",
        "**How many total trainable parameters do each of these models have?**\n",
        "\n",
        "-> Model-1:- \n",
        "trainable parameters = 8,950\n",
        "\n",
        "-> Model-2:- \n",
        "trainable parameters = 22,844\n",
        "\n",
        "\n",
        "-> Model-3:- \n",
        "trainable parameters = 99,511\n",
        "\n",
        "**Is there a clear correlation between number of trainable parameters and accuracy?**\n",
        "\n",
        "-> Part-1 model had 300,000 thousand parameters and part-2 models have parameters way less than that of the former. "
      ]
    },
    {
      "cell_type": "markdown",
      "metadata": {
        "id": "XBDtOSDBWbOF"
      },
      "source": [
        "## Part-3"
      ]
    },
    {
      "cell_type": "code",
      "metadata": {
        "id": "djqh6qYWBpZy",
        "colab": {
          "base_uri": "https://localhost:8080/"
        },
        "outputId": "761c1655-6390-4f06-f3e1-8d65adf7af14"
      },
      "source": [
        "model = Sequential([\n",
        "                    Dense(340, activation='sigmoid', input_dim=784),\n",
        "                    Dense(340, activation='sigmoid'),\n",
        "                    Dense(340, activation='sigmoid'),\n",
        "                    Dense(10, activation='softmax')])\n",
        "\n",
        "model.summary()"
      ],
      "execution_count": null,
      "outputs": [
        {
          "output_type": "stream",
          "text": [
            "Model: \"sequential_11\"\n",
            "_________________________________________________________________\n",
            "Layer (type)                 Output Shape              Param #   \n",
            "=================================================================\n",
            "dense_65 (Dense)             (None, 340)               266900    \n",
            "_________________________________________________________________\n",
            "dense_66 (Dense)             (None, 340)               115940    \n",
            "_________________________________________________________________\n",
            "dense_67 (Dense)             (None, 340)               115940    \n",
            "_________________________________________________________________\n",
            "dense_68 (Dense)             (None, 10)                3410      \n",
            "=================================================================\n",
            "Total params: 502,190\n",
            "Trainable params: 502,190\n",
            "Non-trainable params: 0\n",
            "_________________________________________________________________\n"
          ],
          "name": "stdout"
        }
      ]
    },
    {
      "cell_type": "code",
      "metadata": {
        "id": "GN1iltwICubW"
      },
      "source": [
        "model.compile(optimizer='SGD', loss = 'categorical_crossentropy', metrics = ['accuracy'])"
      ],
      "execution_count": null,
      "outputs": []
    },
    {
      "cell_type": "code",
      "metadata": {
        "id": "r4k68o8JFXmF",
        "colab": {
          "base_uri": "https://localhost:8080/"
        },
        "outputId": "25eb3604-a1df-40a0-cd07-8257bc0393c0"
      },
      "source": [
        "model.fit(train, to_categorical(tlabel), batch_size=1, epochs = 10, validation_split=.3)"
      ],
      "execution_count": null,
      "outputs": [
        {
          "output_type": "stream",
          "text": [
            "Epoch 1/10\n",
            "42000/42000 [==============================] - 103s 2ms/step - loss: 1.1029 - accuracy: 0.6123 - val_loss: 0.3926 - val_accuracy: 0.8851\n",
            "Epoch 2/10\n",
            "42000/42000 [==============================] - 102s 2ms/step - loss: 0.3587 - accuracy: 0.8940 - val_loss: 0.2871 - val_accuracy: 0.9139\n",
            "Epoch 3/10\n",
            "42000/42000 [==============================] - 101s 2ms/step - loss: 0.2687 - accuracy: 0.9197 - val_loss: 0.2378 - val_accuracy: 0.9293\n",
            "Epoch 4/10\n",
            "42000/42000 [==============================] - 102s 2ms/step - loss: 0.2101 - accuracy: 0.9370 - val_loss: 0.2117 - val_accuracy: 0.9359\n",
            "Epoch 5/10\n",
            "42000/42000 [==============================] - 101s 2ms/step - loss: 0.1726 - accuracy: 0.9478 - val_loss: 0.1854 - val_accuracy: 0.9443\n",
            "Epoch 6/10\n",
            "42000/42000 [==============================] - 101s 2ms/step - loss: 0.1447 - accuracy: 0.9565 - val_loss: 0.1486 - val_accuracy: 0.9553\n",
            "Epoch 7/10\n",
            "42000/42000 [==============================] - 103s 2ms/step - loss: 0.1239 - accuracy: 0.9632 - val_loss: 0.1407 - val_accuracy: 0.9578\n",
            "Epoch 8/10\n",
            "42000/42000 [==============================] - 103s 2ms/step - loss: 0.1072 - accuracy: 0.9683 - val_loss: 0.1243 - val_accuracy: 0.9615\n",
            "Epoch 9/10\n",
            "42000/42000 [==============================] - 103s 2ms/step - loss: 0.0935 - accuracy: 0.9723 - val_loss: 0.1235 - val_accuracy: 0.9649\n",
            "Epoch 10/10\n",
            "42000/42000 [==============================] - 104s 2ms/step - loss: 0.0836 - accuracy: 0.9740 - val_loss: 0.1276 - val_accuracy: 0.9617\n"
          ],
          "name": "stdout"
        },
        {
          "output_type": "execute_result",
          "data": {
            "text/plain": [
              "<tensorflow.python.keras.callbacks.History at 0x7f98a0136550>"
            ]
          },
          "metadata": {
            "tags": []
          },
          "execution_count": 64
        }
      ]
    },
    {
      "cell_type": "code",
      "metadata": {
        "id": "MjpbqbGeFtUC",
        "colab": {
          "base_uri": "https://localhost:8080/"
        },
        "outputId": "dbdfdee8-d07c-465c-d7c7-1ab45e6db63d"
      },
      "source": [
        "model.evaluate(test, to_categorical(tst_label))"
      ],
      "execution_count": null,
      "outputs": [
        {
          "output_type": "stream",
          "text": [
            "313/313 [==============================] - 1s 2ms/step - loss: 0.1171 - accuracy: 0.9642\n"
          ],
          "name": "stdout"
        },
        {
          "output_type": "execute_result",
          "data": {
            "text/plain": [
              "[0.1170513927936554, 0.9642000198364258]"
            ]
          },
          "metadata": {
            "tags": []
          },
          "execution_count": 65
        }
      ]
    },
    {
      "cell_type": "markdown",
      "metadata": {
        "id": "DcLqnsC0nL-q"
      },
      "source": [
        "**Which network(part-1 model or part-3 model) achieved the best accuracy on test data after training?**\n",
        "\n",
        "-> Netork iin part-3(96%) had higher accuracy than newtork in part-1(93%).\n",
        "\n",
        "**Did the networks train for a similar number of epochs?**\n",
        "\n",
        "-> The networks are trained for equal number of epochs."
      ]
    },
    {
      "cell_type": "code",
      "metadata": {
        "id": "_PR9mm52WfK2"
      },
      "source": [
        ""
      ],
      "execution_count": null,
      "outputs": []
    }
  ]
}