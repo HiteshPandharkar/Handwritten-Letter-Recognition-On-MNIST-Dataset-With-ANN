{
  "nbformat": 4,
  "nbformat_minor": 0,
  "metadata": {
    "colab": {
      "name": "IISER_Keras_2",
      "provenance": [],
      "authorship_tag": "ABX9TyN94ew9k7/4fKhYuLXsOS8E",
      "include_colab_link": true
    },
    "kernelspec": {
      "name": "python3",
      "display_name": "Python 3"
    },
    "accelerator": "GPU"
  },
  "cells": [
    {
      "cell_type": "markdown",
      "metadata": {
        "id": "view-in-github",
        "colab_type": "text"
      },
      "source": [
        "<a href=\"https://colab.research.google.com/github/HiteshPandharkar/Handwritten-Letter-Recognition-On-MNIST-Dataset-With-ANN/blob/main/IISER_Keras_2.ipynb\" target=\"_parent\"><img src=\"https://colab.research.google.com/assets/colab-badge.svg\" alt=\"Open In Colab\"/></a>"
      ]
    },
    {
      "cell_type": "code",
      "metadata": {
        "id": "6PRWPPTPeGf4",
        "colab": {
          "base_uri": "https://localhost:8080/"
        },
        "outputId": "784252f2-d809-40fc-9df2-7ac6d8cd3b37"
      },
      "source": [
        "!pip install mnist"
      ],
      "execution_count": null,
      "outputs": [
        {
          "output_type": "stream",
          "text": [
            "Collecting mnist\n",
            "  Downloading https://files.pythonhosted.org/packages/c6/c4/5db3bfe009f8d71f1d532bbadbd0ec203764bba3a469e4703a889db8e5e0/mnist-0.2.2-py2.py3-none-any.whl\n",
            "Requirement already satisfied: numpy in /usr/local/lib/python3.6/dist-packages (from mnist) (1.18.5)\n",
            "Installing collected packages: mnist\n",
            "Successfully installed mnist-0.2.2\n"
          ],
          "name": "stdout"
        }
      ]
    },
    {
      "cell_type": "code",
      "metadata": {
        "id": "0Cn_srroePbp"
      },
      "source": [
        "import numpy as np\n",
        "import keras as k\n",
        "import mnist\n",
        "import matplotlib.pyplot as plt\n",
        "from keras.models import Sequential\n",
        "from keras.layers import Dense\n",
        "from keras.utils import to_categorical"
      ],
      "execution_count": null,
      "outputs": []
    },
    {
      "cell_type": "code",
      "metadata": {
        "id": "U2SeswFResbX",
        "colab": {
          "base_uri": "https://localhost:8080/"
        },
        "outputId": "6ae3bf7f-dac9-49a9-9df3-a210dab69be4"
      },
      "source": [
        "!nvidia-smi"
      ],
      "execution_count": null,
      "outputs": [
        {
          "output_type": "stream",
          "text": [
            "Sun Nov  8 15:22:23 2020       \n",
            "+-----------------------------------------------------------------------------+\n",
            "| NVIDIA-SMI 455.32.00    Driver Version: 418.67       CUDA Version: 10.1     |\n",
            "|-------------------------------+----------------------+----------------------+\n",
            "| GPU  Name        Persistence-M| Bus-Id        Disp.A | Volatile Uncorr. ECC |\n",
            "| Fan  Temp  Perf  Pwr:Usage/Cap|         Memory-Usage | GPU-Util  Compute M. |\n",
            "|                               |                      |               MIG M. |\n",
            "|===============================+======================+======================|\n",
            "|   0  Tesla T4            Off  | 00000000:00:04.0 Off |                    0 |\n",
            "| N/A   66C    P8    10W /  70W |      0MiB / 15079MiB |      0%      Default |\n",
            "|                               |                      |                 ERR! |\n",
            "+-------------------------------+----------------------+----------------------+\n",
            "                                                                               \n",
            "+-----------------------------------------------------------------------------+\n",
            "| Processes:                                                                  |\n",
            "|  GPU   GI   CI        PID   Type   Process name                  GPU Memory |\n",
            "|        ID   ID                                                   Usage      |\n",
            "|=============================================================================|\n",
            "|  No running processes found                                                 |\n",
            "+-----------------------------------------------------------------------------+\n"
          ],
          "name": "stdout"
        }
      ]
    },
    {
      "cell_type": "code",
      "metadata": {
        "id": "eP-AN-jue5Px"
      },
      "source": [
        "train = mnist.train_images() # 28x28 images\n",
        "tlabel = mnist.train_labels()\n",
        "\n",
        "test = mnist.test_images()\n",
        "tst_label = mnist.test_labels()"
      ],
      "execution_count": null,
      "outputs": []
    },
    {
      "cell_type": "code",
      "metadata": {
        "id": "cJycBM8_e8xA"
      },
      "source": [
        "train = train/255\n",
        "test = test/255"
      ],
      "execution_count": null,
      "outputs": []
    },
    {
      "cell_type": "code",
      "metadata": {
        "id": "-XfixIq2fEtD"
      },
      "source": [
        "train = train.reshape(-1, 784)\n",
        "test = test.reshape(-1, 784)"
      ],
      "execution_count": null,
      "outputs": []
    },
    {
      "cell_type": "markdown",
      "metadata": {
        "id": "awTKgwbWfLX-"
      },
      "source": [
        "# Building the models."
      ]
    },
    {
      "cell_type": "markdown",
      "metadata": {
        "id": "EgC-ZxrNfQhu"
      },
      "source": [
        "## Model-1"
      ]
    },
    {
      "cell_type": "markdown",
      "metadata": {
        "id": "UQbcg2Bffwqj"
      },
      "source": [
        "**How many layers and how many nodes per layer should I start with?**\n",
        "\n",
        "-> The number of layers and the nodes in them affect the number of trainable parameters. So having more layers with few nodes and having few layers with more nodes is equivalent. \n",
        "\n",
        "So, if we set a target of reasonable number of parameters(that will most likely ensure good performance), we can set the number of layers and number of nodes according to the following relation.\n",
        "\n",
        "n(nodes in nth layer)*n(nodes in (n+1)th layer) = n(trainable parameters)\n",
        "\n",
        "For our case, we start with 500,000 trainable parameters.\n",
        "\n",
        "Adding more layers may add more time to fit the model so we keep more nodes and few layers."
      ]
    },
    {
      "cell_type": "code",
      "metadata": {
        "id": "Oel5F41PfIAA",
        "colab": {
          "base_uri": "https://localhost:8080/"
        },
        "outputId": "58989073-f39b-4b4d-fdbf-e3dcd3ba70f6"
      },
      "source": [
        "model1 = Sequential([\n",
        "                     Dense(350, activation='relu', input_dim = 784),\n",
        "                     Dense(300, activation='relu', activity_regularizer=k.layers.Dropout(rate=.1)),\n",
        "                     Dense(250, activation='relu'),\n",
        "                     Dense(150, activation='relu', activity_regularizer=k.layers.Dropout(rate=.1)),\n",
        "                     Dense(100, activation='relu'),\n",
        "                     Dense(10, activation='softmax')])\n",
        "\n",
        "model1.summary()"
      ],
      "execution_count": null,
      "outputs": [
        {
          "output_type": "stream",
          "text": [
            "Model: \"sequential_2\"\n",
            "_________________________________________________________________\n",
            "Layer (type)                 Output Shape              Param #   \n",
            "=================================================================\n",
            "dense_17 (Dense)             (None, 350)               274750    \n",
            "_________________________________________________________________\n",
            "dense_18 (Dense)             (None, 300)               105300    \n",
            "_________________________________________________________________\n",
            "dense_19 (Dense)             (None, 250)               75250     \n",
            "_________________________________________________________________\n",
            "dense_20 (Dense)             (None, 150)               37650     \n",
            "_________________________________________________________________\n",
            "dense_21 (Dense)             (None, 100)               15100     \n",
            "_________________________________________________________________\n",
            "dense_22 (Dense)             (None, 10)                1010      \n",
            "=================================================================\n",
            "Total params: 509,060\n",
            "Trainable params: 509,060\n",
            "Non-trainable params: 0\n",
            "_________________________________________________________________\n"
          ],
          "name": "stdout"
        }
      ]
    },
    {
      "cell_type": "markdown",
      "metadata": {
        "id": "8SLWRV5H1aSr"
      },
      "source": [
        "**What loss fuction and optimizer should I use?**\n",
        "-> Optimizers:-\n",
        "SGD\n",
        "RMSprop\n",
        "Adam\n",
        "Adadelta\n",
        "Adagrad\n",
        "Adamax\n",
        "Nadam\n",
        "Ftrl\n",
        "\n",
        "loss fuctions:-\n",
        "CategoricalCrossentropy class\n",
        "SparseCategoricalCrossentropy class"
      ]
    },
    {
      "cell_type": "code",
      "metadata": {
        "id": "7HFhUkjboEFi"
      },
      "source": [
        "model1.compile(optimizer='Adam', loss='CategoricalCrossentropy', metrics=['accuracy'])"
      ],
      "execution_count": null,
      "outputs": []
    },
    {
      "cell_type": "code",
      "metadata": {
        "id": "yciVLQtlxBFV",
        "colab": {
          "base_uri": "https://localhost:8080/"
        },
        "outputId": "c9f8773f-a3e2-425c-eefd-ad8578a45919"
      },
      "source": [
        "model1.fit(train, to_categorical(tlabel), batch_size=10, epochs=10, validation_split=.3)"
      ],
      "execution_count": null,
      "outputs": [
        {
          "output_type": "stream",
          "text": [
            "Epoch 1/10\n",
            "4200/4200 [==============================] - 12s 3ms/step - loss: 0.2678 - accuracy: 0.9217 - val_loss: 0.1833 - val_accuracy: 0.9507\n",
            "Epoch 2/10\n",
            "4200/4200 [==============================] - 12s 3ms/step - loss: 0.1332 - accuracy: 0.9634 - val_loss: 0.1512 - val_accuracy: 0.9593\n",
            "Epoch 3/10\n",
            "4200/4200 [==============================] - 12s 3ms/step - loss: 0.1033 - accuracy: 0.9721 - val_loss: 0.1465 - val_accuracy: 0.9631\n",
            "Epoch 4/10\n",
            "4200/4200 [==============================] - 11s 3ms/step - loss: 0.0839 - accuracy: 0.9773 - val_loss: 0.1317 - val_accuracy: 0.9692\n",
            "Epoch 5/10\n",
            "4200/4200 [==============================] - 12s 3ms/step - loss: 0.0721 - accuracy: 0.9811 - val_loss: 0.1243 - val_accuracy: 0.9721\n",
            "Epoch 6/10\n",
            "4200/4200 [==============================] - 12s 3ms/step - loss: 0.0648 - accuracy: 0.9834 - val_loss: 0.1431 - val_accuracy: 0.9704\n",
            "Epoch 7/10\n",
            "4200/4200 [==============================] - 11s 3ms/step - loss: 0.0551 - accuracy: 0.9862 - val_loss: 0.1692 - val_accuracy: 0.9650\n",
            "Epoch 8/10\n",
            "4200/4200 [==============================] - 12s 3ms/step - loss: 0.0536 - accuracy: 0.9867 - val_loss: 0.1685 - val_accuracy: 0.9676\n",
            "Epoch 9/10\n",
            "4200/4200 [==============================] - 12s 3ms/step - loss: 0.0493 - accuracy: 0.9883 - val_loss: 0.1747 - val_accuracy: 0.9706\n",
            "Epoch 10/10\n",
            "4200/4200 [==============================] - 11s 3ms/step - loss: 0.0436 - accuracy: 0.9893 - val_loss: 0.1749 - val_accuracy: 0.9707\n"
          ],
          "name": "stdout"
        },
        {
          "output_type": "execute_result",
          "data": {
            "text/plain": [
              "<tensorflow.python.keras.callbacks.History at 0x7f74aa0c6668>"
            ]
          },
          "metadata": {
            "tags": []
          },
          "execution_count": 31
        }
      ]
    },
    {
      "cell_type": "code",
      "metadata": {
        "id": "8Z3JzJmPxvWh",
        "colab": {
          "base_uri": "https://localhost:8080/"
        },
        "outputId": "8bb8abc5-c166-464b-cf01-69ef09d0cdb7"
      },
      "source": [
        "model1.evaluate(test, to_categorical(tst_label))"
      ],
      "execution_count": null,
      "outputs": [
        {
          "output_type": "stream",
          "text": [
            "313/313 [==============================] - 1s 2ms/step - loss: 0.1445 - accuracy: 0.9743\n"
          ],
          "name": "stdout"
        },
        {
          "output_type": "execute_result",
          "data": {
            "text/plain": [
              "[0.14448119699954987, 0.9743000268936157]"
            ]
          },
          "metadata": {
            "tags": []
          },
          "execution_count": 32
        }
      ]
    },
    {
      "cell_type": "markdown",
      "metadata": {
        "id": "UCe2i3SG068r"
      },
      "source": [
        "The model seems to work well "
      ]
    },
    {
      "cell_type": "markdown",
      "metadata": {
        "id": "SSzjjPjJgkKr"
      },
      "source": [
        "## Model-2"
      ]
    },
    {
      "cell_type": "code",
      "metadata": {
        "id": "18lou6x27mze",
        "colab": {
          "base_uri": "https://localhost:8080/"
        },
        "outputId": "5744ec2b-12aa-406a-f6c4-2478effbfb88"
      },
      "source": [
        "model2 = Sequential([\n",
        "                     Dense(350, activation='tanh', input_dim = 784),\n",
        "                     Dense(300, activation='tanh'),\n",
        "                     Dense(250, activation='tanh'),\n",
        "                     Dense(150, activation='tanh'),\n",
        "                     Dense(100, activation='tanh'),\n",
        "                     Dense(10, activation='softmax')])\n",
        "\n",
        "model2.summary()"
      ],
      "execution_count": null,
      "outputs": [
        {
          "output_type": "stream",
          "text": [
            "Model: \"sequential\"\n",
            "_________________________________________________________________\n",
            "Layer (type)                 Output Shape              Param #   \n",
            "=================================================================\n",
            "dense (Dense)                (None, 350)               274750    \n",
            "_________________________________________________________________\n",
            "dense_1 (Dense)              (None, 300)               105300    \n",
            "_________________________________________________________________\n",
            "dense_2 (Dense)              (None, 250)               75250     \n",
            "_________________________________________________________________\n",
            "dense_3 (Dense)              (None, 150)               37650     \n",
            "_________________________________________________________________\n",
            "dense_4 (Dense)              (None, 100)               15100     \n",
            "_________________________________________________________________\n",
            "dense_5 (Dense)              (None, 10)                1010      \n",
            "=================================================================\n",
            "Total params: 509,060\n",
            "Trainable params: 509,060\n",
            "Non-trainable params: 0\n",
            "_________________________________________________________________\n"
          ],
          "name": "stdout"
        }
      ]
    },
    {
      "cell_type": "code",
      "metadata": {
        "id": "BgGnnYz40yQB"
      },
      "source": [
        "ada = k.optimizers.Adadelta(learning_rate=0.01)\n",
        "stop=k.callbacks.EarlyStopping(monitor='accuracy', min_delta=.1, patience=3, mode='max')\n",
        "model2.compile(optimizer=ada, loss='CategoricalCrossentropy', metrics=['accuracy'])"
      ],
      "execution_count": null,
      "outputs": []
    },
    {
      "cell_type": "code",
      "metadata": {
        "id": "RzjfAzkr8PbM",
        "colab": {
          "base_uri": "https://localhost:8080/"
        },
        "outputId": "a04a922a-86e2-4192-dbf4-307f721194b0"
      },
      "source": [
        "model2.fit(train, to_categorical(tlabel), batch_size=10, epochs=20, validation_split=.3, callbacks=stop)"
      ],
      "execution_count": null,
      "outputs": [
        {
          "output_type": "stream",
          "text": [
            "Epoch 1/20\n",
            "4200/4200 [==============================] - 12s 3ms/step - loss: 0.1155 - accuracy: 0.9663 - val_loss: 0.1479 - val_accuracy: 0.9566\n",
            "Epoch 2/20\n",
            "4200/4200 [==============================] - 12s 3ms/step - loss: 0.1120 - accuracy: 0.9671 - val_loss: 0.1458 - val_accuracy: 0.9579\n",
            "Epoch 3/20\n",
            "4200/4200 [==============================] - 12s 3ms/step - loss: 0.1089 - accuracy: 0.9688 - val_loss: 0.1421 - val_accuracy: 0.9584\n",
            "Epoch 4/20\n",
            "4200/4200 [==============================] - 12s 3ms/step - loss: 0.1060 - accuracy: 0.9691 - val_loss: 0.1414 - val_accuracy: 0.9587\n"
          ],
          "name": "stdout"
        },
        {
          "output_type": "execute_result",
          "data": {
            "text/plain": [
              "<tensorflow.python.keras.callbacks.History at 0x7f92e2233a58>"
            ]
          },
          "metadata": {
            "tags": []
          },
          "execution_count": 22
        }
      ]
    },
    {
      "cell_type": "code",
      "metadata": {
        "id": "eVhys6si8UeF",
        "colab": {
          "base_uri": "https://localhost:8080/"
        },
        "outputId": "0a351ff9-4cfe-4767-cb91-18d2dcc565ce"
      },
      "source": [
        "model2.evaluate(test, to_categorical(tst_label))"
      ],
      "execution_count": null,
      "outputs": [
        {
          "output_type": "stream",
          "text": [
            "313/313 [==============================] - 1s 2ms/step - loss: 0.1303 - accuracy: 0.9610\n"
          ],
          "name": "stdout"
        },
        {
          "output_type": "execute_result",
          "data": {
            "text/plain": [
              "[0.13033349812030792, 0.9610000252723694]"
            ]
          },
          "metadata": {
            "tags": []
          },
          "execution_count": 23
        }
      ]
    },
    {
      "cell_type": "code",
      "metadata": {
        "id": "YACkuZbSpVF1"
      },
      "source": [
        ""
      ],
      "execution_count": null,
      "outputs": []
    }
  ]
}